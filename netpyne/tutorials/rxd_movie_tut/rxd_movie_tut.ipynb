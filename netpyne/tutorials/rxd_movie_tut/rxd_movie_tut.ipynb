{
 "cells": [
  {
   "cell_type": "markdown",
   "id": "c55e48b1",
   "metadata": {},
   "source": [
    "# Making a movie of reaction-diffusion concentrations\n",
    "\n",
    "We recommend creating and using a virtual environment for NetPyNE tutorials.  To do so, enter the following commands into your terminal:\n",
    "\n",
    "    mkdir netpyne_tuts\n",
    "    cd netpyne_tuts\n",
    "    python3 -m venv env\n",
    "    source env/bin/activate\n",
    "    python3 -m pip install --upgrade pip setuptools wheel \n",
    "    python3 -m pip install --upgrade ipython ipykernel jupyter\n",
    "    python3 -m pip install --upgrade neuron\n",
    "    git clone https://github.com/Neurosim-lab/netpyne.git\n",
    "    python3 -m pip install -e netpyne\n",
    "    ipython kernel install --user --name=env\n",
    "    \n",
    "For this tutorial, you will also need to install `natsort` and `imageio`.\n",
    "\n",
    "    python3 -m pip install natsort imageio\n",
    "\n",
    "Then you can copy the example directory we will be using into `netpyne_tuts`, copy this notebook tutorial into it, and compile the mod files.\n",
    "    \n",
    "    cp -r netpyne/examples/rxd_net .\n",
    "    cp netpyne/netpyne/tutorials/rxd_movie_tut/rxd_movie_tut.ipynb rxd_net\n",
    "    cd rxd_net\n",
    "    nrnivmodl mod\n",
    "    \n",
    "Finally, you can launch this tutorial in a Jupyter notebook.\n",
    "\n",
    "    jupyter notebook rxd_movie_tut.ipynb"
   ]
  },
  {
   "cell_type": "code",
   "execution_count": null,
   "id": "018b0494",
   "metadata": {},
   "outputs": [],
   "source": [
    "import os\n",
    "import natsort\n",
    "import imageio\n",
    "\n",
    "images = []\n",
    "filenames = natsort.natsorted([file for file in os.listdir() if 'movie' in file and file.endswith('.png')])\n",
    "for filename in filenames:\n",
    "    images.append(imageio.imread(filename))\n",
    "imageio.mimsave('rxd_conc_movie.gif', images)"
   ]
  },
  {
   "cell_type": "markdown",
   "id": "b9297bcd",
   "metadata": {},
   "source": [
    "Your movie should show up below:\n",
    "\n",
    "<img src=\"rxd_conc_movie.gif\">"
   ]
  }
 ],
 "metadata": {
  "kernelspec": {
   "display_name": "env",
   "language": "python",
   "name": "env"
  },
  "language_info": {
   "codemirror_mode": {
    "name": "ipython",
    "version": 3
   },
   "file_extension": ".py",
   "mimetype": "text/x-python",
   "name": "python",
   "nbconvert_exporter": "python",
   "pygments_lexer": "ipython3",
   "version": "3.8.2"
  }
 },
 "nbformat": 4,
 "nbformat_minor": 5
}
