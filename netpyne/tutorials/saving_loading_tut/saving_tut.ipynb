{
 "cells": [
  {
   "cell_type": "markdown",
   "id": "6ae05cd3",
   "metadata": {},
   "source": [
    "# Saving and Loading Tutorial"
   ]
  },
  {
   "cell_type": "markdown",
   "id": "73c9ae78",
   "metadata": {},
   "source": [
    "First, you need to have `Python3` and `openmpi` installed and running on your machine.\n",
    "\n",
    "We'll make a virtual environment first...\n",
    "\n"
   ]
  },
  {
   "cell_type": "markdown",
   "id": "9f5095e6",
   "metadata": {},
   "source": [
    "## Normal saving\n",
    "\n",
    "Then we'll run a simulation with normal saving:"
   ]
  },
  {
   "cell_type": "code",
   "execution_count": null,
   "id": "cd832080",
   "metadata": {},
   "outputs": [],
   "source": [
    "!mpiexec -n 4 nrniv -python -mpi saving_normal_init.py"
   ]
  },
  {
   "cell_type": "markdown",
   "id": "0243a949",
   "metadata": {},
   "source": [
    "This does not exit to the system prompt, so you will have to restart your kernel.  \n",
    "\n",
    "The `whos` in the next cell should return `Interactive namespace is empty.`"
   ]
  },
  {
   "cell_type": "code",
   "execution_count": null,
   "id": "92c322a2",
   "metadata": {},
   "outputs": [],
   "source": [
    "whos"
   ]
  },
  {
   "cell_type": "code",
   "execution_count": null,
   "id": "7480bef4",
   "metadata": {},
   "outputs": [],
   "source": [
    "from netpyne import sim\n",
    "sim.loadAll('saving_normal_data/saving_normal_data.pkl')"
   ]
  },
  {
   "cell_type": "code",
   "execution_count": null,
   "id": "a226751f",
   "metadata": {},
   "outputs": [],
   "source": [
    "sim.analysis.plotConn(saveFig='saving_normal_data/saving_normal_plot_conn_pop_strength_matrix_FROMFILE.png');\n",
    "sim.analysis.plotRaster(saveFig='saving_normal_data/saving_normal_raster_gid_FROMFILE.png');\n",
    "sim.analysis.plotTraces(saveFig='saving_normal_data/saving_normal_traces_FROMFILE.png');"
   ]
  },
  {
   "cell_type": "markdown",
   "id": "3acc9744",
   "metadata": {},
   "source": [
    "Compare the plots, they should be identical.\n",
    "\n",
    "Now restart your kernel and check the `whos`."
   ]
  },
  {
   "cell_type": "code",
   "execution_count": null,
   "id": "33f1be06",
   "metadata": {},
   "outputs": [],
   "source": [
    "whos"
   ]
  },
  {
   "cell_type": "markdown",
   "id": "69c7844f",
   "metadata": {},
   "source": [
    "## Distributed Saving\n",
    "\n",
    "If you're running large sims, you may want to save the data from each node in a separate file, i.e. distributed saving."
   ]
  },
  {
   "cell_type": "code",
   "execution_count": null,
   "id": "3073d951",
   "metadata": {},
   "outputs": [],
   "source": [
    "!mpiexec -n 4 nrniv -python -mpi saving_dist_init.py"
   ]
  },
  {
   "cell_type": "markdown",
   "id": "ff2df63a",
   "metadata": {},
   "source": [
    "Now restart your kernel so we can load the data from file.\n",
    "\n",
    "The `whos` in the next cell should return `Interactive namespace is empty.`"
   ]
  },
  {
   "cell_type": "code",
   "execution_count": null,
   "id": "411111dc",
   "metadata": {},
   "outputs": [],
   "source": [
    "whos"
   ]
  },
  {
   "cell_type": "code",
   "execution_count": null,
   "id": "01f57db5",
   "metadata": {},
   "outputs": [],
   "source": [
    "from netpyne import sim\n",
    "sim.gatherDataFromFiles(simLabel='saving_dist')"
   ]
  },
  {
   "cell_type": "code",
   "execution_count": null,
   "id": "3e8e0c72",
   "metadata": {},
   "outputs": [],
   "source": [
    "sim.analysis.plotConn(saveFig='saving_dist_data/saving_dist_plot_conn_pop_strength_matrix_FROMFILE.png');\n",
    "sim.analysis.plotRaster(saveFig='saving_dist_data/saving_dist_raster_gid_FROMFILE.png');\n",
    "sim.analysis.plotTraces(saveFig='saving_dist_data/saving_dist_traces_FROMFILE.png');"
   ]
  },
  {
   "cell_type": "markdown",
   "id": "763074e9",
   "metadata": {},
   "source": [
    "Compare the plots, they should be identical.\n",
    "\n",
    "Now restart your kernel and check the `whos`."
   ]
  },
  {
   "cell_type": "code",
   "execution_count": null,
   "id": "cf86ff42",
   "metadata": {},
   "outputs": [],
   "source": [
    "whos"
   ]
  },
  {
   "cell_type": "markdown",
   "id": "33c1e90a",
   "metadata": {},
   "source": [
    "## Interval Saving\n",
    "\n",
    "Perhaps you want to save data at intervals in case you have large, long simulations you're worried won't complete."
   ]
  },
  {
   "cell_type": "code",
   "execution_count": null,
   "id": "bba3e2d9",
   "metadata": {},
   "outputs": [],
   "source": [
    "!mpiexec -n 4 nrniv -python -mpi saving_int_init.py"
   ]
  },
  {
   "cell_type": "markdown",
   "id": "099154e3",
   "metadata": {},
   "source": [
    "Now restart your kernel so we can load the data from file.\n",
    "\n",
    "The `whos` in the next cell should return `Interactive namespace is empty.`"
   ]
  },
  {
   "cell_type": "code",
   "execution_count": null,
   "id": "d3269aa6",
   "metadata": {},
   "outputs": [],
   "source": [
    "whos"
   ]
  },
  {
   "cell_type": "markdown",
   "id": "793191fc",
   "metadata": {},
   "source": [
    "Now let's assume our simulation timed out, and the last interval save we got was at 5000 ms."
   ]
  },
  {
   "cell_type": "code",
   "execution_count": null,
   "id": "020c7809",
   "metadata": {},
   "outputs": [],
   "source": [
    "from netpyne import sim\n",
    "sim.loadAll('saving_int_data/interval_data/interval_5000.pkl', createNEURONObj=False)"
   ]
  },
  {
   "cell_type": "code",
   "execution_count": null,
   "id": "f68fab7a",
   "metadata": {},
   "outputs": [],
   "source": [
    "sim.analysis.plotConn(saveFig='saving_int_data/saving_int_plot_conn_pop_strength_matrix_INTERVAL.png');\n",
    "sim.analysis.plotRaster(saveFig='saving_int_data/saving_int_raster_gid_INTERVAL.png');\n",
    "sim.analysis.plotTraces(saveFig='saving_int_data/saving_int_traces_INTERVAL.png');"
   ]
  },
  {
   "cell_type": "code",
   "execution_count": null,
   "id": "fd27dd43",
   "metadata": {},
   "outputs": [],
   "source": []
  }
 ],
 "metadata": {
  "kernelspec": {
   "display_name": "env",
   "language": "python",
   "name": "env"
  },
  "language_info": {
   "codemirror_mode": {
    "name": "ipython",
    "version": 3
   },
   "file_extension": ".py",
   "mimetype": "text/x-python",
   "name": "python",
   "nbconvert_exporter": "python",
   "pygments_lexer": "ipython3",
   "version": "3.8.2"
  }
 },
 "nbformat": 4,
 "nbformat_minor": 5
}
